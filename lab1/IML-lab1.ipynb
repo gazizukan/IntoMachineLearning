{
 "cells": [
  {
   "cell_type": "markdown",
   "metadata": {},
   "source": [
    "# Intro to Mathematical logic, Jupyter Notebook\n",
    "\n",
    "## Installation\n",
    "* pip install pyDatalog\n",
    "\n",
    "## Tasks\n",
    "* Extend rules for the salary at your own company. Namely add progressive tax rate depending on salary tax_rate=f(salary)\n",
    "* Add working time and calculate the total salary for every employee\n",
    "* Make filter form for employees"
   ]
  },
  {
   "cell_type": "code",
   "execution_count": 2,
   "metadata": {},
   "outputs": [
    {
     "name": "stdout",
     "output_type": "stream",
     "text": [
      "Set the X var to 1\n",
      "X\n",
      "-\n",
      "1\n",
      "\n",
      "Assignment of 2 Vars\n",
      "X    | Y    \n",
      "-----|------\n",
      "True | False\n",
      "\n",
      "Assignment n times, to n values\n",
      "Arr\n",
      "---\n",
      "3  \n",
      "4  \n",
      "1  \n",
      "2  \n",
      "0  \n",
      "\n",
      "Just another case N assignment\n",
      "Arr\n",
      "---\n",
      "0  \n",
      "3  \n",
      "4  \n",
      "1  \n",
      "2  \n",
      "\n",
      "Filtering\n",
      "X\n",
      "-\n",
      "0\n",
      "1\n",
      "\n",
      "Term of function\n",
      "X | Y\n",
      "--|--\n",
      "2 | 4\n",
      "\n",
      "Combination Assignment and Filtering\n",
      "X | Y | Z \n",
      "--|---|---\n",
      "2 | 2 | 4 \n",
      "1 | 0 | 0 \n",
      "0 | 3 | 0 \n",
      "4 | 0 | 0 \n",
      "2 | 4 | 8 \n",
      "3 | 0 | 0 \n",
      "4 | 4 | 16\n",
      "2 | 3 | 6 \n",
      "1 | 4 | 4 \n",
      "3 | 4 | 12\n",
      "0 | 0 | 0 \n",
      "2 | 1 | 2 \n",
      "0 | 4 | 0 \n",
      "3 | 1 | 3 \n",
      "0 | 1 | 0 \n",
      "1 | 1 | 1 \n",
      "2 | 0 | 0 \n",
      "3 | 3 | 9 \n",
      "0 | 2 | 0 \n",
      "1 | 3 | 3 \n",
      "3 | 2 | 6 \n",
      "4 | 1 | 4 \n",
      "4 | 3 | 12\n",
      "1 | 2 | 2 \n",
      "4 | 2 | 8 \n",
      "25\n"
     ]
    }
   ],
   "source": [
    "from pyDatalog import pyDatalog\n",
    "def twice(a):\n",
    "    return a+a\n",
    "pyDatalog.create_terms('X,Y,Z,Arr')\n",
    "\n",
    "print('Set the X var to 1')\n",
    "print(X==1)\n",
    "print()\n",
    "print('Assignment of 2 Vars')\n",
    "print((X==True) & (Y==False))\n",
    "print()\n",
    "\n",
    "print('Assignment n times, to n values')\n",
    "print(Arr.in_((0,1,2,3,4)))\n",
    "print()\n",
    "\n",
    "print('Just another case N assignment')\n",
    "print(Arr.in_(range(5)))\n",
    "print()\n",
    "\n",
    "print('Filtering')\n",
    "print(X.in_(range(5)) & (X<2))\n",
    "print()\n",
    "\n",
    "print('Term of function')\n",
    "pyDatalog.create_terms('twice')\n",
    "print((X==2) & (Y==twice(X)))\n",
    "print()\n",
    "print('Combination Assignment and Filtering')\n",
    "print(X.in_(range(5)) & \n",
    "     Y.in_(range(5)) & \n",
    "     (Z==X*Y))\n",
    "print(len(Z))"
   ]
  },
  {
   "cell_type": "code",
   "execution_count": null,
   "metadata": {
    "collapsed": true
   },
   "outputs": [],
   "source": []
  },
  {
   "cell_type": "code",
   "execution_count": null,
   "metadata": {
    "collapsed": true
   },
   "outputs": [],
   "source": []
  },
  {
   "cell_type": "code",
   "execution_count": 3,
   "metadata": {},
   "outputs": [
    {
     "name": "stdout",
     "output_type": "stream",
     "text": [
      "X       | Y                 \n",
      "--------|-------------------\n",
      "User    | 67.0              \n",
      "User124 | 200.99999999999997\n",
      "User12  | 200.99999999999997\n",
      "User1   | 154.1             \n"
     ]
    }
   ],
   "source": [
    "from ipywidgets import interact_manual\n",
    "from pyDatalog import pyDatalog\n",
    "pyDatalog.create_terms('employee, net_salary, tax_rate')\n",
    "+(tax_rate[None]==0.33)\n",
    "@interact_manual\n",
    "def get_input(name='User', salary=100):\n",
    "    employee[name]=salary\n",
    "    net_salary[X] = employee[X]*(1-tax_rate[None])\n",
    "    print(net_salary[X]==Y)\n"
   ]
  },
  {
   "cell_type": "code",
   "execution_count": 4,
   "metadata": {},
   "outputs": [
    {
     "name": "stdout",
     "output_type": "stream",
     "text": [
      "X       | Y                 \n",
      "--------|-------------------\n",
      "User12  | 200.99999999999997\n",
      "User    | 67.0              \n",
      "User1   | 154.1             \n",
      "User124 | 200.99999999999997\n"
     ]
    }
   ],
   "source": [
    "print(net_salary[X]==Y)"
   ]
  },
  {
   "cell_type": "code",
   "execution_count": null,
   "metadata": {
    "collapsed": true
   },
   "outputs": [],
   "source": []
  }
 ],
 "metadata": {
  "anaconda-cloud": {},
  "kernelspec": {
   "display_name": "Python [conda root]",
   "language": "python",
   "name": "conda-root-py"
  },
  "language_info": {
   "codemirror_mode": {
    "name": "ipython",
    "version": 3
   },
   "file_extension": ".py",
   "mimetype": "text/x-python",
   "name": "python",
   "nbconvert_exporter": "python",
   "pygments_lexer": "ipython3",
   "version": "3.5.2"
  },
  "widgets": {
   "state": {
    "c40306d88fc044479dde57e5d2ab9aa5": {
     "views": [
      {
       "cell_index": 4
      }
     ]
    }
   },
   "version": "1.2.0"
  }
 },
 "nbformat": 4,
 "nbformat_minor": 2
}
